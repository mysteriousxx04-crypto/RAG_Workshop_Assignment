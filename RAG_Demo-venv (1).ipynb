{
 "cells": [
  {
   "cell_type": "code",
   "execution_count": 1,
   "id": "60dde93a",
   "metadata": {},
   "outputs": [
    {
     "name": "stdout",
     "output_type": "stream",
     "text": [
      "============================================================\n",
      "🔧 WORKSHOP ENVIRONMENT CHECK\n",
      "============================================================\n",
      "📋 Checking required libraries and versions:\n",
      "--------------------------------------------------\n",
      "✅ langchain: 0.3.27\n",
      "✅ langchain_community: 0.3.29\n",
      "✅ chromadb: 1.0.20\n",
      "✅ pypdf: 6.0.0\n",
      "✅ numpy: 2.1.3\n",
      "✅ pathlib: built-in\n",
      "✅ os: built-in\n",
      "✅ sys: built-in\n",
      "\n",
      "🤖 Checking Ollama setup:\n",
      "------------------------------\n",
      "✅ Ollama: Installed and phi3:mini model available\n",
      "\n",
      "✅ ALL LIBRARIES INSTALLED!\n",
      "🚀 Ready to proceed with the workshop!\n"
     ]
    }
   ],
   "source": [
    "# ========================================================================\n",
    "# PART 0: ENVIRONMENT SETUP AND LIBRARY VERSION CHECK\n",
    "# ========================================================================\n",
    "# LEARNING OBJECTIVE: Verify environment setup and library compatibility\n",
    "\n",
    "def check_library_versions():\n",
    "    \"\"\"\n",
    "    WORKSHOP FUNCTION: Environment Verification\n",
    "    \n",
    "    PURPOSE: Check installed library versions for compatibility\n",
    "    This helps ensure all students have the same environment setup\n",
    "    \"\"\"\n",
    "    print(\"=\"*60)\n",
    "    print(\"🔧 WORKSHOP ENVIRONMENT CHECK\")\n",
    "    print(\"=\"*60)\n",
    "    \n",
    "    required_libraries = {\n",
    "        'langchain': '0.3.27',\n",
    "        'langchain_community': '0.3.29',\n",
    "        'chromadb': '1.0.20',\n",
    "        'pypdf': '6.0.0',\n",
    "        'numpy': '6.0.0',\n",
    "        'pathlib': 'built-in',\n",
    "        'os': 'built-in',\n",
    "        'sys': 'built-in'\n",
    "    }\n",
    "    \n",
    "    print(\"📋 Checking required libraries and versions:\")\n",
    "    print(\"-\" * 50)\n",
    "    \n",
    "    missing_libraries = []\n",
    "    version_mismatches = []\n",
    "    \n",
    "    for library, min_version in required_libraries.items():\n",
    "        try:\n",
    "            if library in ['pathlib', 'os', 'sys']:\n",
    "                print(f\"✅ {library}: {min_version}\")\n",
    "                continue\n",
    "                \n",
    "            if library == 'langchain':\n",
    "                import langchain\n",
    "                version = langchain.__version__\n",
    "            elif library == 'langchain_community':\n",
    "                import langchain_community\n",
    "                version = getattr(langchain_community, '__version__', 'unknown')\n",
    "            elif library == 'chromadb':\n",
    "                import chromadb\n",
    "                version = chromadb.__version__\n",
    "            elif library == 'pypdf':\n",
    "                import pypdf\n",
    "                version = pypdf._version.__version__\n",
    "            elif library == 'numpy':\n",
    "                import numpy\n",
    "                version = numpy.__version__\n",
    "            \n",
    "            print(f\"✅ {library}: {version}\")\n",
    "            \n",
    "        except ImportError:\n",
    "            print(f\"❌ {library}: NOT INSTALLED\")\n",
    "            missing_libraries.append(library)\n",
    "        except Exception as e:\n",
    "            print(f\"⚠️  {library}: Error checking version - {e}\")\n",
    "    \n",
    "    # Check Ollama availability (external dependency)\n",
    "    print(\"\\n🤖 Checking Ollama setup:\")\n",
    "    print(\"-\" * 30)\n",
    "    try:\n",
    "        import subprocess\n",
    "        result = subprocess.run(['ollama', 'list'], capture_output=True, text=True, timeout=10)\n",
    "        if result.returncode == 0:\n",
    "            if 'phi3:mini' in result.stdout:\n",
    "                print(\"✅ Ollama: Installed and phi3:mini model available\")\n",
    "            else:\n",
    "                print(\"⚠️  Ollama: Installed but phi3:mini model missing\")\n",
    "                print(\"   Run: ollama pull phi3:mini\")\n",
    "        else:\n",
    "            print(\"❌ Ollama: Not properly configured\")\n",
    "    except FileNotFoundError:\n",
    "        print(\"❌ Ollama: Not installed\")\n",
    "        print(\"   Install from: https://ollama.ai/\")\n",
    "    except subprocess.TimeoutExpired:\n",
    "        print(\"⚠️  Ollama: Connection timeout - check if service is running\")\n",
    "    except Exception as e:\n",
    "        print(f\"⚠️  Ollama: Error checking - {e}\")\n",
    "    \n",
    "    # Summary and installation commands\n",
    "    if missing_libraries:\n",
    "        print(f\"\\n❌ MISSING LIBRARIES: {', '.join(missing_libraries)}\")\n",
    "        print(\"\\n📦 EXACT INSTALLATION COMMANDS (Workshop Tested Versions):\")\n",
    "        print(\"pip install langchain==0.3.27\")\n",
    "        print(\"pip install langchain-community==0.3.29\")\n",
    "        print(\"pip install chromadb==1.0.20\")\n",
    "        print(\"pip install pypdf==6.0.0\")\n",
    "        print(\"pip install numpy==6.0.0\")\n",
    "        print(\"\\nRun these commands and restart the workshop.\")\n",
    "        return False\n",
    "    else:\n",
    "        print(\"\\n✅ ALL LIBRARIES INSTALLED!\")\n",
    "        print(\"🚀 Ready to proceed with the workshop!\")\n",
    "        return True\n",
    "\n",
    "# Run environment check\n",
    "environment_ready = check_library_versions()\n",
    "\n",
    "if not environment_ready:\n",
    "    print(\"\\n⚠️  PLEASE INSTALL MISSING LIBRARIES BEFORE CONTINUING\")\n",
    "    print(\"Uncomment the sys.exit() line below if you want to stop here\")\n",
    "    # sys.exit(1)  # Students can uncomment this to stop execution"
   ]
  },
  {
   "cell_type": "markdown",
   "id": "cbf177a0",
   "metadata": {},
   "source": [
    "HANDS-ON RAG (Retrieval-Augmented Generation) WORKSHOP\n",
    "\n",
    "13 Oct 2025\n",
    "Ramaih University of Applied Sciences\n",
    "Instructor: Naganathan Muthuramalingam., PhD Scholar - School of Social Sciences\n",
    "\n",
    "This script demonstrates a complete end-to-end RAG system implementation.\n",
    "\n",
    "WHAT YOU'LL LEARN:\n",
    "1. Document Loading and Processing\n",
    "2. Text Chunking Strategies\n",
    "3. Vector Embeddings and Storage\n",
    "4. Retrieval Mechanisms\n",
    "5. LLM Integration\n",
    "6. Answer Validation and Grounding\n",
    "\n",
    "WORKSHOP STRUCTURE:\n",
    "- Part 0: Environment Setup and Library Version Check\n",
    "- Part 1: Imports and Document Discovery\n",
    "- Part 2: Document Loading and Text Chunking\n",
    "- Part 3: Vector Embeddings & Knowledge Base Creation\n",
    "- Part 4: Retrieval Configuration\n",
    "- Part 5: Language Model Setup\n",
    "- Part 6: Prompt Engineering for Grounding\n",
    "- Part 7: RAG Chain Assembly\n",
    "- Part 8: Answer Validation System\n",
    "- Part 9: Hands-on Testing\n",
    "\n",
    "SYSTEM REQUIREMENTS:\n",
    "- Minimum 8GB RAM (16GB recommended for better performance)\n",
    "- At least 20GB free disk space for models and vector databases\n",
    "- Python 3.8+ installed\n",
    "- Stable internet connection for initial model downloads\n",
    "- Ollama installed (https://ollama.ai/)\n",
    "- phi3:mini model downloaded via: ollama pull phi3:mini\n",
    "\n",
    "INSTALLATION STEPS:\n",
    "1. Install Python 3.8+\n",
    "2. Install Ollama from https://ollama.ai/\n",
    "3. Run: ollama pull phi3:mini\n",
    "4. Install required Python packages (see Part 0 below)\n",
    "5. Create 'data' folder and add PDF documents\n",
    "\n",
    "PREREQUISITES:\n",
    "- Basic Python knowledge\n",
    "- Understanding of machine learning concepts\n",
    "- Familiarity with NLP basics"
   ]
  },
  {
   "cell_type": "code",
   "execution_count": 2,
   "id": "e00efb58",
   "metadata": {},
   "outputs": [],
   "source": [
    "# ========================================================================\n",
    "# PART 1: IMPORTS AND SETUP\n",
    "# ========================================================================\n",
    "# Standard library imports - Python's built-in modules\n",
    "import os\n",
    "import sys\n",
    "from pathlib import Path\n",
    "\n",
    "# LangChain Document Loaders & Processing - For handling different document types\n",
    "from langchain_community.document_loaders import PyPDFLoader\n",
    "from langchain.text_splitter import RecursiveCharacterTextSplitter\n",
    "\n",
    "# Vector Store and Embeddings - For semantic search capabilities\n",
    "from langchain_community.vectorstores import Chroma\n",
    "\n",
    "# Local LLM via Ollama - For running language models locally\n",
    "from langchain_community.llms import Ollama\n",
    "\n",
    "# RAG Chain - For combining retrieval and generation\n",
    "from langchain.chains import RetrievalQA\n",
    "from langchain.prompts import PromptTemplate"
   ]
  },
  {
   "cell_type": "code",
   "execution_count": 3,
   "id": "663152a5",
   "metadata": {},
   "outputs": [
    {
     "name": "stdout",
     "output_type": "stream",
     "text": [
      "✅ Found 5 PDF(s):\n",
      " - data\\Basics of environmental science - M Allaby.pdf\n",
      " - data\\external_content.pdf\n",
      " - data\\hlth-022.pdf\n",
      " - data\\Introduction-to-Climate-Science-1754010655.pdf\n",
      " - data\\SRCCL-Complete-BOOK-LRES.pdf\n"
     ]
    }
   ],
   "source": [
    "# ========================================================================\n",
    "# WORKSHOP ACTIVITY 1: DOCUMENT DISCOVERY\n",
    "# ========================================================================\n",
    "# LEARNING OBJECTIVE: Understand how to locate and validate data sources\n",
    "\n",
    "# Define the path to your PDF directory\n",
    "# TODO for students: Create a 'data' folder and add your PDF documents\n",
    "\n",
    "data_dir = \"./data\"\n",
    "\n",
    "# Find all PDF files in the directory recursively\n",
    "# This uses Path.rglob() to search through all subdirectories\n",
    "\n",
    "pdf_files = [str(p) for p in Path(data_dir).rglob(\"*.pdf\") if p.is_file()]\n",
    "\n",
    "# Validation: Always check if your data exists before processing\n",
    "if not pdf_files:\n",
    "    print(f\"No PDFs found in {data_dir}. Please add your PDFs and update the `data_dir` variable.\")\n",
    "    print(\"WORKSHOP TIP: Create the './data' folder and add at least one PDF document\")\n",
    "else:\n",
    "    print(f\"✅ Found {len(pdf_files)} PDF(s):\")\n",
    "    for f in pdf_files:\n",
    "        print(f\" - {f}\")\n"
   ]
  },
  {
   "cell_type": "code",
   "execution_count": 4,
   "id": "4c4aae69",
   "metadata": {},
   "outputs": [
    {
     "name": "stdout",
     "output_type": "stream",
     "text": [
      "\n",
      "==================================================\n",
      "PART 2: DOCUMENT LOADING & TEXT CHUNKING\n",
      "==================================================\n",
      "\n",
      "📄 Processing: Basics of environmental science - M Allaby.pdf\n",
      "✅ Loaded 340 pages from Basics of environmental science - M Allaby.pdf\n",
      "\n",
      "📄 Processing: external_content.pdf\n",
      "✅ Loaded 324 pages from external_content.pdf\n",
      "\n",
      "📄 Processing: hlth-022.pdf\n",
      "✅ Loaded 52 pages from hlth-022.pdf\n",
      "\n",
      "📄 Processing: Introduction-to-Climate-Science-1754010655.pdf\n",
      "✅ Loaded 243 pages from Introduction-to-Climate-Science-1754010655.pdf\n",
      "\n",
      "📄 Processing: SRCCL-Complete-BOOK-LRES.pdf\n",
      "✅ Loaded 906 pages from SRCCL-Complete-BOOK-LRES.pdf\n",
      "\n",
      "📊 SUMMARY: Total pages loaded: 1865\n"
     ]
    }
   ],
   "source": [
    "# ========================================================================\n",
    "# WORKSHOP ACTIVITY 2: DOCUMENT LOADING AND PREPROCESSING\n",
    "# ========================================================================\n",
    "# LEARNING OBJECTIVE: Transform unstructured documents into structured data\n",
    "\n",
    "\n",
    "print(\"\\n\" + \"=\"*50)\n",
    "print(\"PART 2: DOCUMENT LOADING & TEXT CHUNKING\")\n",
    "print(\"=\"*50)\n",
    "\n",
    "# Initialize document storage\n",
    "documents = []\n",
    "\n",
    "# Process each PDF file\n",
    "for file_path in pdf_files:\n",
    "    try:\n",
    "        print(f\"\\n📄 Processing: {os.path.basename(file_path)}\")\n",
    "        \n",
    "        # PyPDFLoader: Specialized for PDF documents\n",
    "        # WORKSHOP NOTE: Different loaders exist for different file types\n",
    "        # (TextLoader, CSVLoader, JSONLoader, etc.)\n",
    "        loader = PyPDFLoader(file_path)\n",
    "        \n",
    "        # Load documents - each page becomes a separate document\n",
    "        docs = loader.load()\n",
    "        \n",
    "        # Add source metadata for traceability\n",
    "        # WORKSHOP TIP: Metadata is crucial for citation and verification\n",
    "        for doc in docs:\n",
    "            doc.metadata[\"source\"] = os.path.basename(file_path)\n",
    "            \n",
    "        documents.extend(docs)\n",
    "        print(f\"✅ Loaded {len(docs)} pages from {os.path.basename(file_path)}\")\n",
    "        \n",
    "    except Exception as e:\n",
    "        print(f\"❌ Error loading {file_path}: {e}\")\n",
    "        print(\"WORKSHOP TIP: Check file permissions and format compatibility\")\n",
    "\n",
    "print(f\"\\n📊 SUMMARY: Total pages loaded: {len(documents)}\")\n"
   ]
  },
  {
   "cell_type": "code",
   "execution_count": 9,
   "id": "f36d874c",
   "metadata": {},
   "outputs": [
    {
     "name": "stdout",
     "output_type": "stream",
     "text": [
      "\n",
      "==================================================\n",
      "PART 3: TEXT CHUNKING\n",
      "==================================================\n",
      "🔧 Chunking Configuration:\n",
      "   - Chunk size: 1200 characters\n",
      "   - Overlap: 200 characters\n",
      "   - Separators: ['\\n\\n', '\\n', '. ', '! ', '? ', ' ', '']\n",
      "✅ Successfully split into 8024 text chunks\n",
      "\n",
      "📝 SAMPLE CHUNK (ID: 0):\n",
      "   Source: Basics of environmental science - M Allaby.pdf\n",
      "   Length: 1016 characters\n",
      "   Preview: Basics of Environmental Science Basics of Environm...\n"
     ]
    }
   ],
   "source": [
    "# ========================================================================\n",
    "# WORKSHOP ACTIVITY 3: TEXT CHUNKING STRATEGY\n",
    "# ========================================================================\n",
    "# LEARNING OBJECTIVE: Understand why and how to split text optimally\n",
    "\n",
    "print(\"\\n\" + \"=\"*50)\n",
    "print(\"PART 3: TEXT CHUNKING\")\n",
    "print(\"=\"*50)\n",
    "\n",
    "# CONCEPT: Why do we chunk text?\n",
    "# 1. LLMs have context length limitations\n",
    "# 2. Smaller chunks = more precise retrieval\n",
    "# 3. Better semantic matching\n",
    "# 4. Improved processing speed\n",
    "\n",
    "text_splitter = RecursiveCharacterTextSplitter(\n",
    "    chunk_size=1200,      # WORKSHOP EXPERIMENT: Try different sizes (400, 800, 1200)\n",
    "    chunk_overlap=200,   # WORKSHOP EXPERIMENT: Try different overlaps (0, 100, 200)\n",
    "    separators=[\"\\n\\n\", \"\\n\", \". \", \"! \", \"? \", \" \", \"\"]  # Hierarchical splitting\n",
    ")\n",
    "\n",
    "print(\"🔧 Chunking Configuration:\")\n",
    "print(f\"   - Chunk size: {text_splitter._chunk_size} characters\")\n",
    "print(f\"   - Overlap: {text_splitter._chunk_overlap} characters\")\n",
    "print(f\"   - Separators: {text_splitter._separators}\")\n",
    "\n",
    "# Split documents into chunks\n",
    "texts = text_splitter.split_documents(documents)\n",
    "\n",
    "\n",
    "# Add better metadata to each chunk\n",
    "for i, text in enumerate(texts):\n",
    "    text.metadata[\"chunk_id\"] = i\n",
    "    text.metadata[\"chunk_length\"] = len(text.page_content)\n",
    "    # Add first few words as preview\n",
    "    text.metadata[\"preview\"] = text.page_content[:50].replace(\"\\n\", \" \")\n",
    "\n",
    "# Validation\n",
    "if not texts:\n",
    "    print(\"❌ No text chunks created. Check your documents.\")\n",
    "    sys.exit(0)\n",
    "\n",
    "print(f\"✅ Successfully split into {len(texts)} text chunks\")\n",
    "\n",
    "# WORKSHOP ACTIVITY: Examine chunk examples\n",
    "print(f\"\\n📝 SAMPLE CHUNK (ID: 0):\")\n",
    "if texts:\n",
    "    sample_chunk = texts[0]\n",
    "    print(f\"   Source: {sample_chunk.metadata.get('source', 'Unknown')}\")\n",
    "    print(f\"   Length: {sample_chunk.metadata.get('chunk_length', 0)} characters\")\n",
    "    print(f\"   Preview: {sample_chunk.metadata.get('preview', 'N/A')}...\")"
   ]
  },
  {
   "cell_type": "code",
   "execution_count": 10,
   "id": "18472354-824a-401f-ba86-71d2b5f69ed7",
   "metadata": {},
   "outputs": [
    {
     "name": "stdout",
     "output_type": "stream",
     "text": [
      "Requirement already satisfied: sentence-transformers in c:\\users\\msruas\\desktop\\rag_workshop\\rag_env\\lib\\site-packages (5.1.2)\n",
      "Requirement already satisfied: transformers<5.0.0,>=4.41.0 in c:\\users\\msruas\\desktop\\rag_workshop\\rag_env\\lib\\site-packages (from sentence-transformers) (4.57.1)\n",
      "Requirement already satisfied: tqdm in c:\\users\\msruas\\desktop\\rag_workshop\\rag_env\\lib\\site-packages (from sentence-transformers) (4.67.1)\n",
      "Requirement already satisfied: torch>=1.11.0 in c:\\users\\msruas\\desktop\\rag_workshop\\rag_env\\lib\\site-packages (from sentence-transformers) (2.9.0)\n",
      "Requirement already satisfied: scikit-learn in c:\\users\\msruas\\desktop\\rag_workshop\\rag_env\\lib\\site-packages (from sentence-transformers) (1.7.2)\n",
      "Requirement already satisfied: scipy in c:\\users\\msruas\\desktop\\rag_workshop\\rag_env\\lib\\site-packages (from sentence-transformers) (1.16.2)\n",
      "Requirement already satisfied: huggingface-hub>=0.20.0 in c:\\users\\msruas\\desktop\\rag_workshop\\rag_env\\lib\\site-packages (from sentence-transformers) (0.36.0)\n",
      "Requirement already satisfied: Pillow in c:\\users\\msruas\\desktop\\rag_workshop\\rag_env\\lib\\site-packages (from sentence-transformers) (12.0.0)\n",
      "Requirement already satisfied: typing_extensions>=4.5.0 in c:\\users\\msruas\\desktop\\rag_workshop\\rag_env\\lib\\site-packages (from sentence-transformers) (4.15.0)\n",
      "Requirement already satisfied: filelock in c:\\users\\msruas\\desktop\\rag_workshop\\rag_env\\lib\\site-packages (from transformers<5.0.0,>=4.41.0->sentence-transformers) (3.20.0)\n",
      "Requirement already satisfied: numpy>=1.17 in c:\\users\\msruas\\desktop\\rag_workshop\\rag_env\\lib\\site-packages (from transformers<5.0.0,>=4.41.0->sentence-transformers) (2.1.3)\n",
      "Requirement already satisfied: packaging>=20.0 in c:\\users\\msruas\\desktop\\rag_workshop\\rag_env\\lib\\site-packages (from transformers<5.0.0,>=4.41.0->sentence-transformers) (25.0)\n",
      "Requirement already satisfied: pyyaml>=5.1 in c:\\users\\msruas\\desktop\\rag_workshop\\rag_env\\lib\\site-packages (from transformers<5.0.0,>=4.41.0->sentence-transformers) (6.0.3)\n",
      "Requirement already satisfied: regex!=2019.12.17 in c:\\users\\msruas\\desktop\\rag_workshop\\rag_env\\lib\\site-packages (from transformers<5.0.0,>=4.41.0->sentence-transformers) (2025.10.23)\n",
      "Requirement already satisfied: requests in c:\\users\\msruas\\desktop\\rag_workshop\\rag_env\\lib\\site-packages (from transformers<5.0.0,>=4.41.0->sentence-transformers) (2.32.5)\n",
      "Requirement already satisfied: tokenizers<=0.23.0,>=0.22.0 in c:\\users\\msruas\\desktop\\rag_workshop\\rag_env\\lib\\site-packages (from transformers<5.0.0,>=4.41.0->sentence-transformers) (0.22.1)\n",
      "Requirement already satisfied: safetensors>=0.4.3 in c:\\users\\msruas\\desktop\\rag_workshop\\rag_env\\lib\\site-packages (from transformers<5.0.0,>=4.41.0->sentence-transformers) (0.6.2)\n",
      "Requirement already satisfied: fsspec>=2023.5.0 in c:\\users\\msruas\\desktop\\rag_workshop\\rag_env\\lib\\site-packages (from huggingface-hub>=0.20.0->sentence-transformers) (2025.9.0)\n",
      "Requirement already satisfied: sympy>=1.13.3 in c:\\users\\msruas\\desktop\\rag_workshop\\rag_env\\lib\\site-packages (from torch>=1.11.0->sentence-transformers) (1.14.0)\n",
      "Requirement already satisfied: networkx>=2.5.1 in c:\\users\\msruas\\desktop\\rag_workshop\\rag_env\\lib\\site-packages (from torch>=1.11.0->sentence-transformers) (3.5)\n",
      "Requirement already satisfied: jinja2 in c:\\users\\msruas\\desktop\\rag_workshop\\rag_env\\lib\\site-packages (from torch>=1.11.0->sentence-transformers) (3.1.6)\n",
      "Requirement already satisfied: setuptools in c:\\users\\msruas\\desktop\\rag_workshop\\rag_env\\lib\\site-packages (from torch>=1.11.0->sentence-transformers) (80.9.0)\n",
      "Requirement already satisfied: mpmath<1.4,>=1.1.0 in c:\\users\\msruas\\desktop\\rag_workshop\\rag_env\\lib\\site-packages (from sympy>=1.13.3->torch>=1.11.0->sentence-transformers) (1.3.0)\n",
      "Requirement already satisfied: colorama in c:\\users\\msruas\\desktop\\rag_workshop\\rag_env\\lib\\site-packages (from tqdm->sentence-transformers) (0.4.6)\n",
      "Requirement already satisfied: MarkupSafe>=2.0 in c:\\users\\msruas\\desktop\\rag_workshop\\rag_env\\lib\\site-packages (from jinja2->torch>=1.11.0->sentence-transformers) (3.0.3)\n",
      "Requirement already satisfied: charset_normalizer<4,>=2 in c:\\users\\msruas\\desktop\\rag_workshop\\rag_env\\lib\\site-packages (from requests->transformers<5.0.0,>=4.41.0->sentence-transformers) (3.4.4)\n",
      "Requirement already satisfied: idna<4,>=2.5 in c:\\users\\msruas\\desktop\\rag_workshop\\rag_env\\lib\\site-packages (from requests->transformers<5.0.0,>=4.41.0->sentence-transformers) (3.11)\n",
      "Requirement already satisfied: urllib3<3,>=1.21.1 in c:\\users\\msruas\\desktop\\rag_workshop\\rag_env\\lib\\site-packages (from requests->transformers<5.0.0,>=4.41.0->sentence-transformers) (2.3.0)\n",
      "Requirement already satisfied: certifi>=2017.4.17 in c:\\users\\msruas\\desktop\\rag_workshop\\rag_env\\lib\\site-packages (from requests->transformers<5.0.0,>=4.41.0->sentence-transformers) (2025.10.5)\n",
      "Requirement already satisfied: joblib>=1.2.0 in c:\\users\\msruas\\desktop\\rag_workshop\\rag_env\\lib\\site-packages (from scikit-learn->sentence-transformers) (1.5.2)\n",
      "Requirement already satisfied: threadpoolctl>=3.1.0 in c:\\users\\msruas\\desktop\\rag_workshop\\rag_env\\lib\\site-packages (from scikit-learn->sentence-transformers) (3.6.0)\n",
      "Note: you may need to restart the kernel to use updated packages.\n"
     ]
    }
   ],
   "source": [
    "pip install sentence-transformers"
   ]
  },
  {
   "cell_type": "code",
   "execution_count": 11,
   "id": "3744aadc",
   "metadata": {},
   "outputs": [
    {
     "name": "stdout",
     "output_type": "stream",
     "text": [
      "\n",
      "==================================================\n",
      "PART 4: VECTOR EMBEDDINGS & KNOWLEDGE BASE\n",
      "==================================================\n",
      "🧠 Initializing embedding model...\n"
     ]
    },
    {
     "name": "stderr",
     "output_type": "stream",
     "text": [
      "C:\\Users\\MSRUAS\\AppData\\Local\\Temp\\ipykernel_2244\\4198301627.py:20: LangChainDeprecationWarning: The class `HuggingFaceEmbeddings` was deprecated in LangChain 0.2.2 and will be removed in 1.0. An updated version of the class exists in the :class:`~langchain-huggingface package and should be used instead. To use it run `pip install -U :class:`~langchain-huggingface` and import as `from :class:`~langchain_huggingface import HuggingFaceEmbeddings``.\n",
      "  embeddings = HuggingFaceEmbeddings(\n"
     ]
    },
    {
     "data": {
      "application/vnd.jupyter.widget-view+json": {
       "model_id": "1f678a74c9d14001b8390bfc142a04a8",
       "version_major": 2,
       "version_minor": 0
      },
      "text/plain": [
       "modules.json:   0%|          | 0.00/349 [00:00<?, ?B/s]"
      ]
     },
     "metadata": {},
     "output_type": "display_data"
    },
    {
     "name": "stderr",
     "output_type": "stream",
     "text": [
      "C:\\Users\\MSRUAS\\Desktop\\RAG_Workshop\\rag_env\\Lib\\site-packages\\huggingface_hub\\file_download.py:143: UserWarning: `huggingface_hub` cache-system uses symlinks by default to efficiently store duplicated files but your machine does not support them in C:\\Users\\MSRUAS\\.cache\\huggingface\\hub\\models--sentence-transformers--all-MiniLM-L6-v2. Caching files will still work but in a degraded version that might require more space on your disk. This warning can be disabled by setting the `HF_HUB_DISABLE_SYMLINKS_WARNING` environment variable. For more details, see https://huggingface.co/docs/huggingface_hub/how-to-cache#limitations.\n",
      "To support symlinks on Windows, you either need to activate Developer Mode or to run Python as an administrator. In order to activate developer mode, see this article: https://docs.microsoft.com/en-us/windows/apps/get-started/enable-your-device-for-development\n",
      "  warnings.warn(message)\n"
     ]
    },
    {
     "data": {
      "application/vnd.jupyter.widget-view+json": {
       "model_id": "861a515d13d0464f9149ebb613d4c373",
       "version_major": 2,
       "version_minor": 0
      },
      "text/plain": [
       "config_sentence_transformers.json:   0%|          | 0.00/116 [00:00<?, ?B/s]"
      ]
     },
     "metadata": {},
     "output_type": "display_data"
    },
    {
     "data": {
      "application/vnd.jupyter.widget-view+json": {
       "model_id": "942388f75b114b04974c9e0439de91c1",
       "version_major": 2,
       "version_minor": 0
      },
      "text/plain": [
       "README.md: 0.00B [00:00, ?B/s]"
      ]
     },
     "metadata": {},
     "output_type": "display_data"
    },
    {
     "data": {
      "application/vnd.jupyter.widget-view+json": {
       "model_id": "4fa43e1e303a4c729d27bade704e698d",
       "version_major": 2,
       "version_minor": 0
      },
      "text/plain": [
       "sentence_bert_config.json:   0%|          | 0.00/53.0 [00:00<?, ?B/s]"
      ]
     },
     "metadata": {},
     "output_type": "display_data"
    },
    {
     "data": {
      "application/vnd.jupyter.widget-view+json": {
       "model_id": "c76107298c4f4c4fad398867e822d154",
       "version_major": 2,
       "version_minor": 0
      },
      "text/plain": [
       "config.json:   0%|          | 0.00/612 [00:00<?, ?B/s]"
      ]
     },
     "metadata": {},
     "output_type": "display_data"
    },
    {
     "data": {
      "application/vnd.jupyter.widget-view+json": {
       "model_id": "162c30fa888b49e48d601b2e0482a33a",
       "version_major": 2,
       "version_minor": 0
      },
      "text/plain": [
       "model.safetensors:   0%|          | 0.00/90.9M [00:00<?, ?B/s]"
      ]
     },
     "metadata": {},
     "output_type": "display_data"
    },
    {
     "data": {
      "application/vnd.jupyter.widget-view+json": {
       "model_id": "3fd30f19610a4dfa8d518542597cf147",
       "version_major": 2,
       "version_minor": 0
      },
      "text/plain": [
       "tokenizer_config.json:   0%|          | 0.00/350 [00:00<?, ?B/s]"
      ]
     },
     "metadata": {},
     "output_type": "display_data"
    },
    {
     "data": {
      "application/vnd.jupyter.widget-view+json": {
       "model_id": "aa9463f8307c4bc3924c5ab42a76dc76",
       "version_major": 2,
       "version_minor": 0
      },
      "text/plain": [
       "vocab.txt: 0.00B [00:00, ?B/s]"
      ]
     },
     "metadata": {},
     "output_type": "display_data"
    },
    {
     "data": {
      "application/vnd.jupyter.widget-view+json": {
       "model_id": "d57ad6a3ddbf443884cdc6139ec8ebd3",
       "version_major": 2,
       "version_minor": 0
      },
      "text/plain": [
       "tokenizer.json: 0.00B [00:00, ?B/s]"
      ]
     },
     "metadata": {},
     "output_type": "display_data"
    },
    {
     "data": {
      "application/vnd.jupyter.widget-view+json": {
       "model_id": "af5d62b2c6c14d23999fe9d4e0a090e2",
       "version_major": 2,
       "version_minor": 0
      },
      "text/plain": [
       "special_tokens_map.json:   0%|          | 0.00/112 [00:00<?, ?B/s]"
      ]
     },
     "metadata": {},
     "output_type": "display_data"
    },
    {
     "data": {
      "application/vnd.jupyter.widget-view+json": {
       "model_id": "432a4761a7b64fc0a6ad0d7858404f59",
       "version_major": 2,
       "version_minor": 0
      },
      "text/plain": [
       "config.json:   0%|          | 0.00/190 [00:00<?, ?B/s]"
      ]
     },
     "metadata": {},
     "output_type": "display_data"
    },
    {
     "name": "stdout",
     "output_type": "stream",
     "text": [
      "✅ Embedding model loaded: all-MiniLM-L6-v2\n",
      "   - Dimensions: 384\n",
      "   - Model size: ~90MB\n",
      "   - Performance: Good balance of speed vs accuracy\n",
      "\n",
      "🗄️  Creating vector database...\n",
      "✅ Vector database created and saved to disk\n",
      "   WORKSHOP TIP: Database persists between runs for efficiency\n"
     ]
    }
   ],
   "source": [
    "\n",
    "# ========================================================================\n",
    "# WORKSHOP ACTIVITY 4: EMBEDDINGS AND VECTOR STORE\n",
    "# ========================================================================\n",
    "# LEARNING OBJECTIVE: Convert text to vectors for semantic search\n",
    "\n",
    "print(\"\\n\" + \"=\"*50)\n",
    "print(\"PART 4: VECTOR EMBEDDINGS & KNOWLEDGE BASE\")\n",
    "print(\"=\"*50)\n",
    "\n",
    "from langchain_community.embeddings import HuggingFaceEmbeddings\n",
    "\n",
    "\n",
    "# CONCEPT: What are embeddings?\n",
    "# - Mathematical representations of text meaning\n",
    "# - Similar texts have similar vectors\n",
    "# - Enable semantic search (not just keyword matching)\n",
    "\n",
    "print(\"🧠 Initializing embedding model...\")\n",
    "\n",
    "embeddings = HuggingFaceEmbeddings(\n",
    "model_name=\"all-MiniLM-L6-v2\", # WORKSHOP NOTE: Lightweight but effective\n",
    "model_kwargs={'device': 'cpu'}, # Use CPU for compatibility\n",
    "encode_kwargs={'normalize_embeddings': False}\n",
    ")\n",
    "\n",
    "\n",
    "print(\"✅ Embedding model loaded: all-MiniLM-L6-v2\")\n",
    "print(\"   - Dimensions: 384\")\n",
    "print(\"   - Model size: ~90MB\")\n",
    "print(\"   - Performance: Good balance of speed vs accuracy\")\n",
    "\n",
    "# Create vector database\n",
    "print(\"\\n🗄️  Creating vector database...\")\n",
    "\n",
    "vectorstore = Chroma.from_documents(\n",
    "    documents=texts,\n",
    "    embedding=embeddings,\n",
    "    persist_directory=\"./chroma_clinicaltrial_db\"  # Persistent storage\n",
    ")\n",
    "\n",
    "print(\"✅ Vector database created and saved to disk\")\n",
    "print(\"   WORKSHOP TIP: Database persists between runs for efficiency\")"
   ]
  },
  {
   "cell_type": "code",
   "execution_count": 13,
   "id": "8b23b2c8",
   "metadata": {},
   "outputs": [
    {
     "name": "stdout",
     "output_type": "stream",
     "text": [
      "\n",
      "==================================================\n",
      "PART 5: RETRIEVAL CONFIGURATION\n",
      "==================================================\n",
      "🔍 Retrieval Configuration:\n",
      "   - Strategy: MMR (Maximum Marginal Relevance)\n",
      "   - Documents returned: 5\n",
      "   - Initial candidates: 10\n",
      "   - Relevance vs Diversity balance: 0.7\n"
     ]
    }
   ],
   "source": [
    "# ========================================================================\n",
    "# WORKSHOP ACTIVITY 5: RETRIEVAL CONFIGURATION\n",
    "# ========================================================================\n",
    "# LEARNING OBJECTIVE: Configure optimal document retrieval\n",
    "\n",
    "print(\"\\n\" + \"=\"*50)\n",
    "print(\"PART 5: RETRIEVAL CONFIGURATION\")\n",
    "print(\"=\"*50)\n",
    "\n",
    "# CONCEPT: Retrieval strategies\n",
    "# - Similarity: Find most similar documents\n",
    "# - MMR (Maximum Marginal Relevance): Balance relevance and diversity\n",
    "# - Similarity + threshold: Filter low-relevance results\n",
    "\n",
    "retriever = vectorstore.as_retriever(\n",
    "    search_type=\"mmr\",  # WORKSHOP EXPERIMENT: Try \"similarity\" vs \"mmr\"\n",
    "    search_kwargs={\n",
    "        \"k\": 7,           # Number of documents to retrieve\n",
    "        \"fetch_k\": 6,    # Initial candidates before MMR filtering\n",
    "        \"lambda_mult\": 0.8  # Balance: 1.0=relevance only, 0.0=diversity only\n",
    "    }\n",
    ")\n",
    "\n",
    "print(\"🔍 Retrieval Configuration:\")\n",
    "print(f\"   - Strategy: MMR (Maximum Marginal Relevance)\")\n",
    "print(f\"   - Documents returned: 5\")\n",
    "print(f\"   - Initial candidates: 10\")\n",
    "print(f\"   - Relevance vs Diversity balance: 0.7\")"
   ]
  },
  {
   "cell_type": "code",
   "execution_count": 14,
   "id": "ef667008",
   "metadata": {},
   "outputs": [
    {
     "name": "stdout",
     "output_type": "stream",
     "text": [
      "\n",
      "==================================================\n",
      "PART 6: LANGUAGE MODEL SETUP\n",
      "==================================================\n",
      "📋 PREREQUISITE CHECK:\n",
      "   1. Install Ollama: https://ollama.ai/\n",
      "   2. Run: ollama pull phi3:mini\n",
      "   3. Verify: ollama list\n",
      "\n",
      "🧪 Testing LLM connection...\n"
     ]
    },
    {
     "name": "stderr",
     "output_type": "stream",
     "text": [
      "C:\\Users\\MSRUAS\\AppData\\Local\\Temp\\ipykernel_2244\\3920470046.py:18: LangChainDeprecationWarning: The class `Ollama` was deprecated in LangChain 0.3.1 and will be removed in 1.0.0. An updated version of the class exists in the :class:`~langchain-ollama package and should be used instead. To use it run `pip install -U :class:`~langchain-ollama` and import as `from :class:`~langchain_ollama import OllamaLLM``.\n",
      "  llm = Ollama(\n"
     ]
    },
    {
     "name": "stdout",
     "output_type": "stream",
     "text": [
      "✅ LLM Response: The sum of 2 and 2 is 4.\n",
      "✅ Language model initialized successfully!\n"
     ]
    }
   ],
   "source": [
    "# ========================================================================\n",
    "# WORKSHOP ACTIVITY 6: LLM INTEGRATION\n",
    "# ========================================================================\n",
    "# LEARNING OBJECTIVE: Connect local language model for generation\n",
    "\n",
    "print(\"\\n\" + \"=\"*50)\n",
    "print(\"PART 6: LANGUAGE MODEL SETUP\")\n",
    "print(\"=\"*50)\n",
    "\n",
    "# PREREQUISITE: Install Ollama and pull a model\n",
    "print(\"📋 PREREQUISITE CHECK:\")\n",
    "print(\"   1. Install Ollama: https://ollama.ai/\")\n",
    "print(\"   2. Run: ollama pull phi3:mini\")\n",
    "print(\"   3. Verify: ollama list\")\n",
    "\n",
    "\n",
    "try:\n",
    "    llm = Ollama(\n",
    "        model=\"phi3:mini\",    # WORKSHOP NOTE: Lightweight model for laptops\n",
    "        temperature=0.2,      # Low temperature = more deterministic responses\n",
    "        num_thread=2,         # Adjust based on your CPU cores\n",
    "    )\n",
    "    \n",
    "    # Test LLM connection\n",
    "    print(\"\\n🧪 Testing LLM connection...\")\n",
    "    test_response = llm.invoke(\"What is 2+2?\")\n",
    "    print(f\"✅ LLM Response: {test_response}\")\n",
    "    print(\"✅ Language model initialized successfully!\")\n",
    "    \n",
    "except Exception as e:\n",
    "    print(f\"❌ LLM Connection Failed: {e}\")\n",
    "    print(\"WORKSHOP TIP: Ensure Ollama is running and phi3:mini is installed\")\n",
    "    # TODO: Add fallback or alternative model suggestion\n"
   ]
  },
  {
   "cell_type": "code",
   "execution_count": 15,
   "id": "8e66e70c",
   "metadata": {},
   "outputs": [
    {
     "name": "stdout",
     "output_type": "stream",
     "text": [
      "\n",
      "==================================================\n",
      "PART 7: PROMPT ENGINEERING FOR GROUNDING\n",
      "==================================================\n",
      "✅ Prompt template created with grounding instructions\n"
     ]
    }
   ],
   "source": [
    "# ========================================================================\n",
    "# WORKSHOP ACTIVITY 7: PROMPT ENGINEERING\n",
    "# ========================================================================\n",
    "# LEARNING OBJECTIVE: Design prompts that enforce grounding\n",
    "\n",
    "print(\"\\n\" + \"=\"*50)\n",
    "print(\"PART 7: PROMPT ENGINEERING FOR GROUNDING\")\n",
    "print(\"=\"*50)\n",
    "\n",
    "# CONCEPT: Prompt engineering for RAG\n",
    "# - Explicit instructions prevent hallucination\n",
    "# - Structure ensures consistent output format\n",
    "# - Citations enable verification\n",
    "\n",
    "# Enhanced prompt template for better factual retrieval\n",
    "\n",
    "prompt_template = \"\"\"\n",
    "You are a precise document analyst. Your task is to answer questions STRICTLY based on the provided context.\n",
    "\n",
    "CRITICAL INSTRUCTIONS:\n",
    "1. ONLY use information explicitly stated in the context below\n",
    "2. If the context doesn't contain the answer, respond: \"The provided documents do not contain information to answer this question.\"\n",
    "3. Always cite which document/source your answer comes from\n",
    "4. Do not make inferences beyond what is directly stated\n",
    "5. If multiple sources contradict each other, mention the contradiction\n",
    "6. Use exact quotes when possible, enclosed in quotation marks\n",
    "7. For factual questions (like currency, population, etc.), scan ALL context carefully\n",
    "\n",
    "\n",
    "Context Documents:\n",
    "{context}\n",
    "\n",
    "Question: {question}\n",
    "Requirements for your answer:\n",
    "- Start with the most relevant source\n",
    "- Use direct quotes where applicable\n",
    "- Clearly separate facts from different sources\n",
    "- Look for keywords related to the question (currency, money, dollar, etc.)\n",
    "- End with source citations\n",
    "\n",
    "Answer:\n",
    "\"\"\"\n",
    "\n",
    "\n",
    "PROMPT = PromptTemplate(\n",
    "    template=prompt_template, \n",
    "    input_variables=[\"context\", \"question\"]\n",
    ")\n",
    "print(\"✅ Prompt template created with grounding instructions\")"
   ]
  },
  {
   "cell_type": "code",
   "execution_count": 16,
   "id": "b263dc13",
   "metadata": {},
   "outputs": [
    {
     "name": "stdout",
     "output_type": "stream",
     "text": [
      "\n",
      "==================================================\n",
      "PART 8: RAG CHAIN ASSEMBLY\n",
      "==================================================\n",
      "✅ RAG chain assembled successfully!\n",
      "   Components connected: Retriever → LLM → Response\n"
     ]
    }
   ],
   "source": [
    "# ========================================================================\n",
    "# WORKSHOP ACTIVITY 8: RAG CHAIN ASSEMBLY\n",
    "# ========================================================================\n",
    "# LEARNING OBJECTIVE: Combine all components into a working system\n",
    "\n",
    "print(\"\\n\" + \"=\"*50)\n",
    "print(\"PART 8: RAG CHAIN ASSEMBLY\")\n",
    "print(\"=\"*50)\n",
    "\n",
    "qa_chain = RetrievalQA.from_chain_type(\n",
    "    llm=llm,\n",
    "    chain_type=\"stuff\",    # WORKSHOP NOTE: \"stuff\" = include all context in prompt\n",
    "    retriever=retriever,\n",
    "    chain_type_kwargs={\n",
    "        \"prompt\": PROMPT,\n",
    "        \"document_separator\": \"\\n\\n--- SOURCE DOCUMENT ---\\n\\n\"\n",
    "    },\n",
    "    return_source_documents=True,  # Essential for verification\n",
    "    verbose=False  # WORKSHOP TIP: Set to True for debugging\n",
    ")\n",
    "\n",
    "print(\"✅ RAG chain assembled successfully!\")\n",
    "print(\"   Components connected: Retriever → LLM → Response\")"
   ]
  },
  {
   "cell_type": "code",
   "execution_count": 17,
   "id": "78822001",
   "metadata": {},
   "outputs": [],
   "source": [
    "# ========================================================================\n",
    "# WORKSHOP ACTIVITY 9: ANSWER VALIDATION SYSTEM\n",
    "# ========================================================================\n",
    "# LEARNING OBJECTIVE: Implement quality control for RAG responses\n",
    "\n",
    "def validate_answer(answer, source_docs):\n",
    "    \"\"\"\n",
    "    WORKSHOP FUNCTION: Answer Quality Assessment\n",
    "    \n",
    "    PURPOSE: Detect potential hallucinations and assess grounding quality\n",
    "    \n",
    "    PARAMETERS:\n",
    "    - answer: Generated response from RAG system\n",
    "    - source_docs: Retrieved documents used for context\n",
    "    \n",
    "    RETURNS:\n",
    "    - confidence_score: Float between 0.0 and 1.0\n",
    "    - warnings: List of quality issues detected\n",
    "    \"\"\"\n",
    "    answer_lower = answer.lower()\n",
    "    \n",
    "    # Define hallucination indicators\n",
    "    # WORKSHOP EXERCISE: Add more phrases students might identify\n",
    "    hallucination_phrases = [\n",
    "        \"i think\", \"probably\", \"likely\", \"it seems\", \"perhaps\", \n",
    "        \"generally speaking\", \"typically\", \"usually\", \"in most cases\"\n",
    "    ]\n",
    "    \n",
    "    confidence_score = 1.0\n",
    "    warnings = []\n",
    "    \n",
    "    # Check for uncertain language\n",
    "    for phrase in hallucination_phrases:\n",
    "        if phrase in answer_lower:\n",
    "            confidence_score -= 0.2\n",
    "            warnings.append(f\"Uncertain language detected: '{phrase}'\")\n",
    "    \n",
    "    # Verify source citation\n",
    "    has_citations = any(doc.metadata['source'].lower() in answer_lower for doc in source_docs)\n",
    "    if not has_citations:\n",
    "        confidence_score -= 0.3\n",
    "        warnings.append(\"Answer does not reference source documents\")\n",
    "    \n",
    "    return max(0.0, confidence_score), warnings\n",
    "\n",
    "def ask_question_with_validation(question):\n",
    "    \"\"\"\n",
    "    WORKSHOP FUNCTION: Complete RAG Query with Validation\n",
    "    \n",
    "    This function demonstrates the full RAG pipeline:\n",
    "    1. Question input\n",
    "    2. Document retrieval\n",
    "    3. Answer generation\n",
    "    4. Quality validation\n",
    "    5. Source verification\n",
    "    \"\"\"\n",
    "    print(f\"🤔 Question: {question}\")\n",
    "    print(\"\\n🔍 Retrieving relevant information...\")\n",
    "    \n",
    "    # Execute RAG pipeline\n",
    "    result = qa_chain.invoke({\"query\": question})\n",
    "    answer = result[\"result\"]\n",
    "    source_docs = result[\"source_documents\"]\n",
    "    \n",
    "    # Validate response quality\n",
    "    confidence, warnings = validate_answer(answer, source_docs)\n",
    "    \n",
    "    # Display results with educational annotations\n",
    "    print(\"\\n📝 Answer:\")\n",
    "    print(\"=\"*50)\n",
    "    print(answer)\n",
    "    \n",
    "    # Quality assessment\n",
    "    print(f\"\\n📊 Quality Assessment:\")\n",
    "    print(f\"   Confidence Score: {confidence:.2f}/1.0\")\n",
    "    \n",
    "    if confidence >= 0.8:\n",
    "        print(\"   ✅ HIGH QUALITY: Well-grounded response\")\n",
    "    elif confidence >= 0.6:\n",
    "        print(\"   ⚠️  MEDIUM QUALITY: Review recommended\")\n",
    "    else:\n",
    "        print(\"   ❌ LOW QUALITY: Potential hallucination detected\")\n",
    "    \n",
    "    if warnings:\n",
    "        print(\"\\n⚠️  Quality Warnings:\")\n",
    "        for warning in warnings:\n",
    "            print(f\"   • {warning}\")\n",
    "    \n",
    "    # Enhanced source verification with keyword analysis\n",
    "    print(f\"\\n📚 Retrieved Sources ({len(source_docs)} documents):\")\n",
    "    print(\"-\" * 60)\n",
    "    \n",
    "    question_keywords = set(question.lower().split())\n",
    "    \n",
    "    for i, doc in enumerate(source_docs):\n",
    "        content_keywords = set(doc.page_content.lower().split())\n",
    "        keyword_overlap = question_keywords.intersection(content_keywords)\n",
    "        \n",
    "        print(f\"{i+1}. Source: {doc.metadata['source']}\")\n",
    "        print(f\"   Page: {doc.metadata.get('page', 'Unknown')}\")\n",
    "        print(f\"   Keyword overlap: {list(keyword_overlap)}\")\n",
    "        print(f\"   Content: {doc.page_content[:200]}...\")\n",
    "        print()\n",
    "    \n",
    "    # Suggest improvements if answer is not found\n",
    "    if \"do not contain information\" in answer.lower():\n",
    "        print(\"\\n💡 TROUBLESHOOTING SUGGESTIONS:\")\n",
    "        print(\"1. Check if your question keywords appear in the documents\")\n",
    "        print(\"2. Try rephrasing the question with different terms\")\n",
    "        print(\"3. Verify the PDF content was properly extracted\")\n",
    "        print(\"4. Consider if the information spans multiple chunks\")\n",
    "        \n",
    "        # Try alternative search terms\n",
    "        if \"currency\" in question.lower():\n",
    "            alt_terms = [\"money\", \"dollar\", \"economic\", \"financial\", \"payment\"]\n",
    "            print(f\"\\n🔄 Trying alternative search terms: {alt_terms}\")\n",
    "            for term in alt_terms:\n",
    "                alt_docs = vectorstore.similarity_search(term, k=3)\n",
    "                if alt_docs:\n",
    "                    print(f\"\\n   Found content for '{term}':\")\n",
    "                    for doc in alt_docs[:1]:  # Show first match\n",
    "                        print(f\"   {doc.page_content[:100]}...\")\n",
    "    \n",
    "    return result, confidence, warnings"
   ]
  },
  {
   "cell_type": "code",
   "execution_count": null,
   "id": "b72253ab",
   "metadata": {},
   "outputs": [
    {
     "name": "stdout",
     "output_type": "stream",
     "text": [
      "\n",
      "================================================================================\n",
      "WORKSHOP DEMONSTRATION: TESTING THE RAG SYSTEM\n",
      "================================================================================\n",
      "🧪 RUNNING SAMPLE QUERY...\n",
      "🤔 Question: what is the currency?\n",
      "\n",
      "🔍 Retrieving relevant information...\n"
     ]
    }
   ],
   "source": [
    "# ========================================================================\n",
    "# WORKSHOP ACTIVITY 10: HANDS-ON TESTING\n",
    "# ========================================================================\n",
    "# LEARNING OBJECTIVE: Test the complete RAG system\n",
    "\n",
    "print(\"\\n\" + \"=\"*80)\n",
    "print(\"WORKSHOP DEMONSTRATION: TESTING THE RAG SYSTEM\")\n",
    "print(\"=\"*80)\n",
    "\n",
    "# Sample question for demonstration\n",
    "# WORKSHOP INSTRUCTION: Students should modify this question\n",
    "question = \"what is the currency?\"\n",
    "\n",
    "print(\"🧪 RUNNING SAMPLE QUERY...\")\n",
    "result, confidence, warnings = ask_question_with_validation(question)"
   ]
  },
  {
   "cell_type": "code",
   "execution_count": null,
   "id": "090bd312",
   "metadata": {},
   "outputs": [],
   "source": [
    "# ========================================================================\n",
    "# WORKSHOP CONCLUSION: INTERACTIVE SESSION\n",
    "# ========================================================================\n",
    "\n",
    "print(\"\\n\" + \"=\"*80)\n",
    "print(\"🎓 WORKSHOP COMPLETE! RAG SYSTEM READY FOR EXPERIMENTATION\")\n",
    "print(\"=\"*80)\n",
    "print(\"\\nEXPERIMENT IDEAS FOR STUDENTS:\")\n",
    "print(\"1. Try different chunk sizes (400, 800, 1200)\")\n",
    "print(\"2. Compare similarity vs MMR retrieval\")\n",
    "print(\"3. Adjust retrieval parameters (k, fetch_k, lambda_mult)\")\n",
    "print(\"4. Modify the prompt template\")\n",
    "print(\"5. Test with different types of questions\")\n",
    "print(\"6. Add your own validation criteria\")\n",
    "print(\"\\n🔧 DEBUGGING TOOLS:\")\n",
    "print(\"- Use debug_retrieval(question, vectorstore) to see what's retrieved\")\n",
    "print(\"- Use manual_search('currency', vectorstore) to find specific terms\")\n",
    "print(\"- Check similarity scores to understand retrieval quality\")\n",
    "print(\"\\nHAPPY LEARNING! 🚀\")"
   ]
  }
 ],
 "metadata": {
  "kernelspec": {
   "display_name": "Python 3 (ipykernel)",
   "language": "python",
   "name": "python3"
  },
  "language_info": {
   "codemirror_mode": {
    "name": "ipython",
    "version": 3
   },
   "file_extension": ".py",
   "mimetype": "text/x-python",
   "name": "python",
   "nbconvert_exporter": "python",
   "pygments_lexer": "ipython3",
   "version": "3.13.2"
  }
 },
 "nbformat": 4,
 "nbformat_minor": 5
}
